{
 "cells": [
  {
   "cell_type": "markdown",
   "metadata": {},
   "source": [
    "# QUESTION 1️ : \n",
    "# You are writing code for a company. The requirement of the company is that you create a python function that will check whether the password entered by the user is correct or not. The function should take the password as input and return the string “Valid Password” if the entered password follows the below-given password guidelines else it should return “Invalid Password”\n",
    "\n",
    "# Note: \n",
    "# 1. The Password should contain at least two uppercase letters and at least two lowercase letters.\n",
    "\n",
    "# 2. The Password should contain at least a number and three special characters.\n",
    "\n",
    "# 3. The length of the password should be 10 characters long.\n"
   ]
  },
  {
   "cell_type": "code",
   "execution_count": 2,
   "metadata": {},
   "outputs": [
    {
     "name": "stdout",
     "output_type": "stream",
     "text": [
      "Set your password :abcd\n",
      "Invalid Password\n",
      "Oops, You have entered : abcd\n",
      "\n",
      "        The length of password should be atleast 10 characters long.\n",
      "        \n",
      "        Also Note that : \n",
      "        1. The Password should contain at least two uppercase letters and at least two lowercase letters.\n",
      "        2. The Password should contain at least a number and three special characters.\n",
      "        \n"
     ]
    }
   ],
   "source": [
    "def check_password(password):\n",
    "    \n",
    "    if len(password) >= 10 :\n",
    "\n",
    "        upper_case = 0\n",
    "        lower_case = 0\n",
    "        digits = 0\n",
    "        special_chars = 0\n",
    "\n",
    "        special_char_set = str(\"!@#$%^&*()_-+={[]}|\\:;'<>,.?/\")\n",
    "\n",
    "        for char in password:\n",
    "        \n",
    "            if char.isupper():\n",
    "                upper_case += 1\n",
    "            \n",
    "            elif char.islower():\n",
    "                lower_case += 1\n",
    "            \n",
    "            elif char.isdigit():\n",
    "                digits += 1\n",
    "            \n",
    "            elif char in special_char_set:\n",
    "                special_chars += 1\n",
    "\n",
    "        if upper_case >= 2 and lower_case >= 2 and digits >= 1 and special_chars >= 3 :\n",
    "            return \"Valid Password\"\n",
    "        \n",
    "        else:\n",
    "            print(\"Invalid Password\")\n",
    "            print(\"You have entered :\", password)\n",
    "            \n",
    "            Error = '''\n",
    "        Note that : \n",
    "        1. The Password should contain at least two uppercase letters and at least two lowercase letters.\n",
    "        2. The Password should contain at least a number and three special characters.\n",
    "        3. The length of password should be atleast 10 characters long.'''\n",
    "        \n",
    "            return Error\n",
    "        \n",
    "    else:\n",
    "        print(\"Invalid Password\")\n",
    "        Error = '''\n",
    "        The length of password should be atleast 10 characters long.\n",
    "        \n",
    "        Also Note that : \n",
    "        1. The Password should contain at least two uppercase letters and at least two lowercase letters.\n",
    "        2. The Password should contain at least a number and three special characters.\n",
    "        '''\n",
    "        \n",
    "        print(\"Oops, You have entered :\", password)\n",
    "        return Error\n",
    "\n",
    "password = input(\"Set your password :\")\n",
    "\n",
    "print(check_password(password))  "
   ]
  },
  {
   "cell_type": "markdown",
   "metadata": {},
   "source": [
    "# QUESTION 2️ : \n",
    "# Solve the below-given questions using at least one of the following: \n",
    "# 1. Lambda function\n",
    "# 2. Filter function\n",
    "# 3. Map function\n",
    "# 4. List Comprehension\n",
    "\n",
    "* #  Check if the string starts with a particular letter \n",
    "* #  Check if the string is numeric \n",
    "* #  Sort a list of tuples having fruit names and their quantity. [(\"mango\",99),(\"orange\",80), (\"grapes\", 1000) \n",
    "* #  Find the squares of numbers from 1 to 10 \n",
    "* #  Find the cube root of numbers from 1 to 10 \n",
    "* #  Check if a given number is even \n",
    "* #  Filter odd numbers from the given list.\n",
    "- ### [1,2,3,4,5,6,7,8,9,10]\n",
    " \n",
    "* #  Sort a list of integers into positive and negative integers lists.\n",
    "- ### [1,2,3,4,5,6,-1,-2,-3,-4,-5,0]"
   ]
  },
  {
   "cell_type": "code",
   "execution_count": 2,
   "metadata": {},
   "outputs": [
    {
     "name": "stdout",
     "output_type": "stream",
     "text": [
      "Ans 1. Check if the string starts with a particular letter.\n",
      "Using List Comprehension :\n",
      "\n",
      "['apple']\n"
     ]
    }
   ],
   "source": [
    "ans_1 = '''Ans 1. Check if the string starts with a particular letter.\n",
    "Using List Comprehension :\n",
    "'''\n",
    "# Code line goes here :\n",
    "\n",
    "strings = ['apple', 'banana', 'cherry', 'date']\n",
    "letter = 'a'\n",
    "result = [s for s in strings if s.startswith(letter)]\n",
    "\n",
    "print(ans_1)\n",
    "print(result)"
   ]
  },
  {
   "cell_type": "code",
   "execution_count": 3,
   "metadata": {},
   "outputs": [
    {
     "name": "stdout",
     "output_type": "stream",
     "text": [
      "Ans 2. Check if the string is numeric.\n",
      "Using Lambda function and isnumeric() :\n",
      "\n",
      "['123']\n"
     ]
    }
   ],
   "source": [
    "ans_2 = '''Ans 2. Check if the string is numeric.\n",
    "Using Lambda function and isnumeric() :\n",
    "'''\n",
    "# Code Line goes here :\n",
    "\n",
    "strings = ['123', '3.14', '0xFF', 'one']\n",
    "result = list(filter(lambda s: s.isnumeric(), strings))\n",
    "\n",
    "print(ans_2)\n",
    "print(result)"
   ]
  },
  {
   "cell_type": "code",
   "execution_count": 4,
   "metadata": {},
   "outputs": [
    {
     "name": "stdout",
     "output_type": "stream",
     "text": [
      "Ans 3. Sort a list of tuples having fruit names and their quantity. [(\"mango\",99),(\"orange\",80), (\"grapes\", 1000)\n",
      "Using lambda function and sorted() :\n",
      "\n",
      "[('orange', 80), ('mango', 99), ('grapes', 1000)]\n"
     ]
    }
   ],
   "source": [
    "ans_3 = '''Ans 3. Sort a list of tuples having fruit names and their quantity. [(\"mango\",99),(\"orange\",80), (\"grapes\", 1000)\n",
    "Using lambda function and sorted() :\n",
    "'''\n",
    "# Code Line goes here :\n",
    "\n",
    "fruits = [(\"mango\", 99), (\"orange\", 80), (\"grapes\", 1000)]\n",
    "sorted_fruits = sorted(fruits, key = lambda x: x[1])\n",
    "\n",
    "print(ans_3)\n",
    "print(sorted_fruits)"
   ]
  },
  {
   "cell_type": "code",
   "execution_count": 5,
   "metadata": {},
   "outputs": [
    {
     "name": "stdout",
     "output_type": "stream",
     "text": [
      "Ans 4. Find the squares of numbers from 1 to 10.\n",
      "Using List Comprehension :\n",
      "\n",
      "[1, 4, 9, 16, 25, 36, 49, 64, 81, 100]\n"
     ]
    }
   ],
   "source": [
    "ans_4 = '''Ans 4. Find the squares of numbers from 1 to 10.\n",
    "Using List Comprehension :\n",
    "'''\n",
    "# Code line goes here :\n",
    "\n",
    "squares = [x**2 for x in range(1, 11)]\n",
    "\n",
    "print(ans_4)\n",
    "print(squares)"
   ]
  },
  {
   "cell_type": "code",
   "execution_count": 6,
   "metadata": {},
   "outputs": [
    {
     "name": "stdout",
     "output_type": "stream",
     "text": [
      "Ans 5. Find the cube root of numbers from 1 to 10.\n",
      "Using Lambda function and map() :\n",
      "\n",
      "[1.0, 1.2599210498948732, 1.4422495703074083, 1.5874010519681994, 1.7099759466766968, 1.8171205928321397, 1.912931182772389, 2.0, 2.080083823051904, 2.154434690031884]\n"
     ]
    }
   ],
   "source": [
    "ans_5 = '''Ans 5. Find the cube root of numbers from 1 to 10.\n",
    "Using Lambda function and map() :\n",
    "'''\n",
    "# Code line goes here :\n",
    "\n",
    "result = list(map(lambda x: x**(1/3), range(1, 11)))\n",
    "\n",
    "print(ans_5)\n",
    "print(result)"
   ]
  },
  {
   "cell_type": "code",
   "execution_count": 7,
   "metadata": {},
   "outputs": [
    {
     "name": "stdout",
     "output_type": "stream",
     "text": [
      "Ans 6. Check if a given number is even\n",
      "Using Lambda function and filter() :\n",
      "\n",
      "[2, 4, 6, 8, 10]\n"
     ]
    }
   ],
   "source": [
    "ans_6 = '''Ans 6. Check if a given number is even\n",
    "Using Lambda function and filter() :\n",
    "'''\n",
    "# Code line goes here :\n",
    "\n",
    "numbers = [1, 2, 3, 4, 5, 6, 7, 8, 9, 10]\n",
    "even_numbers = list(filter(lambda x: x % 2 == 0, numbers))\n",
    "\n",
    "print(ans_6)\n",
    "print(even_numbers)"
   ]
  },
  {
   "cell_type": "code",
   "execution_count": 8,
   "metadata": {},
   "outputs": [
    {
     "name": "stdout",
     "output_type": "stream",
     "text": [
      "Ans 7. Filter odd numbers from the given list.\n",
      "[1,2,3,4,5,6,7,8,9,10]\n",
      "\n",
      "Using List Comprehension :\n",
      "\n",
      "[1, 3, 5, 7, 9]\n"
     ]
    }
   ],
   "source": [
    "ans_7 = '''Ans 7. Filter odd numbers from the given list.\n",
    "[1,2,3,4,5,6,7,8,9,10]\n",
    "\n",
    "Using List Comprehension :\n",
    "'''\n",
    "# Code line goes here :\n",
    "\n",
    "numbers = [1, 2, 3, 4, 5, 6, 7, 8, 9, 10]\n",
    "odd_numbers = [x for x in numbers if x % 2 == 1]\n",
    "\n",
    "print(ans_7)\n",
    "print(odd_numbers)"
   ]
  },
  {
   "cell_type": "code",
   "execution_count": 9,
   "metadata": {},
   "outputs": [
    {
     "name": "stdout",
     "output_type": "stream",
     "text": [
      "Ans 8. Sort a list of integers into positive and negative integers lists.\n",
      "[1,2,3,4,5,6,-1,-2,-3,-4,-5,0]\n",
      "\n",
      "Using List Comprehension :\n",
      "\n",
      "[1, 2, 3, 4, 5, 6]\n"
     ]
    }
   ],
   "source": [
    "ans_8 = '''Ans 8. Sort a list of integers into positive and negative integers lists.\n",
    "[1,2,3,4,5,6,-1,-2,-3,-4,-5,0]\n",
    "\n",
    "Using List Comprehension :\n",
    "'''\n",
    "# Code line goes here :\n",
    "\n",
    "numbers = [1, 2, 3, 4, 5, 6, -1, -2, -3, -4, -5, 0]\n",
    "positive = [num for num in numbers if num > 0]\n",
    "\n",
    "print(ans_8)\n",
    "print(positive)"
   ]
  }
 ],
 "metadata": {
  "kernelspec": {
   "display_name": "Python 3 (ipykernel)",
   "language": "python",
   "name": "python3"
  },
  "language_info": {
   "codemirror_mode": {
    "name": "ipython",
    "version": 3
   },
   "file_extension": ".py",
   "mimetype": "text/x-python",
   "name": "python",
   "nbconvert_exporter": "python",
   "pygments_lexer": "ipython3",
   "version": "3.9.13"
  }
 },
 "nbformat": 4,
 "nbformat_minor": 1
}
